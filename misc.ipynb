{
 "cells": [
  {
   "cell_type": "code",
   "execution_count": 32,
   "metadata": {},
   "outputs": [],
   "source": [
    "import csv\n",
    "import pandas as pd\n",
    "import numpy as np\n",
    "from pynput.mouse import Controller\n",
    "import time\n",
    "\n",
    "# Initialize the mouse controller\n",
    "mouse = Controller()\n",
    "\n",
    "df = pd.read_csv('positions.csv')\n",
    "ranges = []\n",
    "for x in range(1, len(df['Time'])):\n",
    "    ranges.append((float(df.iloc[x,0]) - float(df.iloc[x-1, 0])))\n",
    "\n",
    "avg = np.array(ranges).mean()\n"
   ]
  },
  {
   "cell_type": "code",
   "execution_count": 33,
   "metadata": {},
   "outputs": [],
   "source": [
    "# Function to move the mouse to a specific position\n",
    "def move_mouse(x, y):\n",
    "    mouse.position = float(x), float(y) # Pause for a second to see the movement\n",
    "    time.sleep(avg)\n",
    "\n",
    "# Read the CSV file and move the mouse\n",
    "with open('positions.csv', 'r') as file:\n",
    "    csv_reader = csv.reader(file)\n",
    "    next(csv_reader)  # Skip the header row\n",
    "    for row in csv_reader:\n",
    "        move_mouse(row[1], row[2])"
   ]
  }
 ],
 "metadata": {
  "kernelspec": {
   "display_name": "Python 3",
   "language": "python",
   "name": "python3"
  },
  "language_info": {
   "codemirror_mode": {
    "name": "ipython",
    "version": 3
   },
   "file_extension": ".py",
   "mimetype": "text/x-python",
   "name": "python",
   "nbconvert_exporter": "python",
   "pygments_lexer": "ipython3",
   "version": "3.9.6"
  }
 },
 "nbformat": 4,
 "nbformat_minor": 2
}
